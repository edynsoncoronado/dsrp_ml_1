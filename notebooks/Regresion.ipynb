{
 "cells": [
  {
   "cell_type": "code",
   "execution_count": 2,
   "metadata": {},
   "outputs": [],
   "source": [
    "from dsrp_ml_1.utils import MachineLearningProcessor\n",
    "from sklearn.linear_model import LinearRegression"
   ]
  },
  {
   "cell_type": "code",
   "execution_count": 3,
   "metadata": {},
   "outputs": [],
   "source": [
    "ml_processor = MachineLearningProcessor(\n",
    "    model_type=\"LinearRegression\",\n",
    "    features=['gdp per capita', 'family', 'life expectancy', 'freedom'],\n",
    "    score='happiness score'\n",
    ")"
   ]
  },
  {
   "cell_type": "code",
   "execution_count": 4,
   "metadata": {},
   "outputs": [
    {
     "data": {
      "text/html": [
       "<div>\n",
       "<style scoped>\n",
       "    .dataframe tbody tr th:only-of-type {\n",
       "        vertical-align: middle;\n",
       "    }\n",
       "\n",
       "    .dataframe tbody tr th {\n",
       "        vertical-align: top;\n",
       "    }\n",
       "\n",
       "    .dataframe thead th {\n",
       "        text-align: right;\n",
       "    }\n",
       "</style>\n",
       "<table border=\"1\" class=\"dataframe\">\n",
       "  <thead>\n",
       "    <tr style=\"text-align: right;\">\n",
       "      <th></th>\n",
       "      <th>country</th>\n",
       "      <th>happiness score</th>\n",
       "      <th>gdp per capita</th>\n",
       "      <th>family</th>\n",
       "      <th>life expectancy</th>\n",
       "      <th>freedom</th>\n",
       "      <th>generosity</th>\n",
       "      <th>lack of corruption</th>\n",
       "    </tr>\n",
       "  </thead>\n",
       "  <tbody>\n",
       "    <tr>\n",
       "      <th>0</th>\n",
       "      <td>Finland</td>\n",
       "      <td>7.769</td>\n",
       "      <td>1.340</td>\n",
       "      <td>1.587</td>\n",
       "      <td>0.986</td>\n",
       "      <td>0.596</td>\n",
       "      <td>0.153</td>\n",
       "      <td>0.393</td>\n",
       "    </tr>\n",
       "    <tr>\n",
       "      <th>1</th>\n",
       "      <td>Denmark</td>\n",
       "      <td>7.600</td>\n",
       "      <td>1.383</td>\n",
       "      <td>1.573</td>\n",
       "      <td>0.996</td>\n",
       "      <td>0.592</td>\n",
       "      <td>0.252</td>\n",
       "      <td>0.410</td>\n",
       "    </tr>\n",
       "    <tr>\n",
       "      <th>2</th>\n",
       "      <td>Norway</td>\n",
       "      <td>7.554</td>\n",
       "      <td>1.488</td>\n",
       "      <td>1.582</td>\n",
       "      <td>1.028</td>\n",
       "      <td>0.603</td>\n",
       "      <td>0.271</td>\n",
       "      <td>0.341</td>\n",
       "    </tr>\n",
       "    <tr>\n",
       "      <th>3</th>\n",
       "      <td>Iceland</td>\n",
       "      <td>7.494</td>\n",
       "      <td>1.380</td>\n",
       "      <td>1.624</td>\n",
       "      <td>1.026</td>\n",
       "      <td>0.591</td>\n",
       "      <td>0.354</td>\n",
       "      <td>0.118</td>\n",
       "    </tr>\n",
       "    <tr>\n",
       "      <th>4</th>\n",
       "      <td>Netherlands</td>\n",
       "      <td>7.488</td>\n",
       "      <td>1.396</td>\n",
       "      <td>1.522</td>\n",
       "      <td>0.999</td>\n",
       "      <td>0.557</td>\n",
       "      <td>0.322</td>\n",
       "      <td>0.298</td>\n",
       "    </tr>\n",
       "  </tbody>\n",
       "</table>\n",
       "</div>"
      ],
      "text/plain": [
       "       country  happiness score  gdp per capita  family  life expectancy  \\\n",
       "0      Finland            7.769           1.340   1.587            0.986   \n",
       "1      Denmark            7.600           1.383   1.573            0.996   \n",
       "2       Norway            7.554           1.488   1.582            1.028   \n",
       "3      Iceland            7.494           1.380   1.624            1.026   \n",
       "4  Netherlands            7.488           1.396   1.522            0.999   \n",
       "\n",
       "   freedom  generosity  lack of corruption  \n",
       "0    0.596       0.153               0.393  \n",
       "1    0.592       0.252               0.410  \n",
       "2    0.603       0.271               0.341  \n",
       "3    0.591       0.354               0.118  \n",
       "4    0.557       0.322               0.298  "
      ]
     },
     "execution_count": 4,
     "metadata": {},
     "output_type": "execute_result"
    }
   ],
   "source": [
    "ml_processor.data.head()"
   ]
  },
  {
   "cell_type": "markdown",
   "metadata": {},
   "source": [
    "# Entrenar Modelo de Regresión Lineal"
   ]
  },
  {
   "cell_type": "code",
   "execution_count": 5,
   "metadata": {},
   "outputs": [
    {
     "name": "stdout",
     "output_type": "stream",
     "text": [
      "1. Separando datos de train y test..\n",
      "2. Entrenando model LinearRegression\n",
      "3. Entrenamiento finalizado\n"
     ]
    }
   ],
   "source": [
    "ml_processor.train(model_ml=LinearRegression())"
   ]
  },
  {
   "cell_type": "code",
   "execution_count": 6,
   "metadata": {},
   "outputs": [
    {
     "name": "stdout",
     "output_type": "stream",
     "text": [
      "R² score: 0.5961963009874784\n",
      "MSE: 0.4202479484737957\n"
     ]
    }
   ],
   "source": [
    "ml_processor.predict()"
   ]
  },
  {
   "cell_type": "markdown",
   "metadata": {},
   "source": [
    "# Importancia de cada variable (coeficientes del modelo)"
   ]
  },
  {
   "cell_type": "code",
   "execution_count": 7,
   "metadata": {},
   "outputs": [
    {
     "name": "stdout",
     "output_type": "stream",
     "text": [
      "          Variable  Coeficiente\n",
      "3          freedom     1.886122\n",
      "1           family     1.120872\n",
      "2  life expectancy     1.011735\n",
      "0   gdp per capita     0.795098\n"
     ]
    }
   ],
   "source": [
    "import pandas as pd\n",
    "\n",
    "# Obtener y mostrar los coeficientes del modelo\n",
    "coefficients = pd.DataFrame({\n",
    "    'Variable': ml_processor.features,\n",
    "    'Coeficiente': ml_processor.fitted_model.coef_\n",
    "})\n",
    "\n",
    "# Ordenar por magnitud absoluta para ver la importancia\n",
    "coefficients['Importancia absoluta'] = coefficients['Coeficiente'].abs()\n",
    "coefficients_sorted = coefficients.sort_values(by='Importancia absoluta', ascending=False)\n",
    "\n",
    "print(coefficients_sorted[['Variable', 'Coeficiente']])"
   ]
  },
  {
   "cell_type": "markdown",
   "metadata": {},
   "source": [
    "# Guardado de modelo"
   ]
  },
  {
   "cell_type": "code",
   "execution_count": 8,
   "metadata": {},
   "outputs": [
    {
     "name": "stdout",
     "output_type": "stream",
     "text": [
      "Model guaradado exitosamente\n"
     ]
    }
   ],
   "source": [
    "from dsrp_ml_1.utils import save\n",
    "\n",
    "save(ml_processor.fitted_model, ml_processor.model_type)"
   ]
  },
  {
   "cell_type": "markdown",
   "metadata": {},
   "source": [
    "# Conclusión\n",
    "\n",
    "1) La libertad personal es el predictor más fuerte, con el mayor coeficiente.\n",
    "\n",
    "2) El apoyo social (family) y la esperanza de vida saludable también tienen un fuerte impacto positivo.\n",
    "\n",
    "3) El PBI per cápita, aunque importante, tiene menor influencia directa que las variables sociales."
   ]
  }
 ],
 "metadata": {
  "kernelspec": {
   "display_name": "Python 3 (ipykernel)",
   "language": "python",
   "name": "python3"
  },
  "language_info": {
   "codemirror_mode": {
    "name": "ipython",
    "version": 3
   },
   "file_extension": ".py",
   "mimetype": "text/x-python",
   "name": "python",
   "nbconvert_exporter": "python",
   "pygments_lexer": "ipython3",
   "version": "3.12.11"
  }
 },
 "nbformat": 4,
 "nbformat_minor": 2
}
